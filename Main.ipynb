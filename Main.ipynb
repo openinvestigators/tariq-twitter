{
 "cells": [
  {
   "cell_type": "markdown",
   "metadata": {},
   "source": [
    "# Fake Followers of @TariqRamadan on Twitter\n",
    "\n",
    "Today we will use fully open data provided by Twitter's public API to look for paid or fake followers in a Twitter account. You can apply the same technique to any Twitter account. We will be using the account of [@TariqRamadan](https://twitter.com/TariqRamadan).\n",
    "\n",
    "Fake Twitter users, who were either created to simply increase the number of followers or spread spam messages are an old phenomenon. It's surprising people still use the technique, even though it's quite easy to detect.\n",
    "\n",
    "Before diving into the data, we will look at existing research and best practices. In grey literature, we find Sparktoro[^1], who bought fake Twitter users themselves, then looked at attributes and came up with a score to assess an account based on a small sample of it's followers. This is usefule to get a quick overview. The criteria they use are easy to retrieve, so we will reuse them as well:\n",
    "\n",
    "- Profile image – accounts lacking these are often spam\n",
    "- Account age in days – certain patterns are clearly spam-correlated\n",
    "- Number of followers – spam accounts tend to have very few followers\n",
    "- Days since last tweet – many spam accounts rarely if ever send tweets\n",
    "- Number of times the account appears on lists – spam accounts are almost never on lists\n",
    "- Display name – certain keywords and patterns correlate strongly with spam\n",
    "\n",
    "In the official literature, we find a good paper by Stefano Cresci et al[^2]. They summarize different criteria used by previous papers and build their own machine learning model with a data set of known humans and bots. Unfortunately we don't have access to their model, so we will just reuse some of the criteria (table 14) they used to detect bot users:\n",
    "\n",
    "- has name\n",
    "- has image\n",
    "- has biography\n",
    "- followers ≥ 30\n",
    "- tweets ≥ 50\n",
    "\n",
    "### Resources\n",
    "- 1: https://sparktoro.com/blog/sparktoros-new-tool-to-uncover-real-vs-fake-followers-on-twitter/\n",
    "- 2: https://arxiv.org/pdf/1509.04098.pdf\n",
    "- 3: https://developer.twitter.com/en/docs"
   ]
  },
  {
   "cell_type": "markdown",
   "metadata": {},
   "source": [
    "## Input data\n",
    "\n",
    "The data used for this report was downloaded on Nov 8, 2019 using Twitter's official API[^3]. In total we received 697,784 IDs of followers, of which we were able to get details for 697,765.\n",
    "\n",
    "**The source data is included with this repo for your convenience and to easily run your own analysis. To validate our result you could also download the data again yourself.**"
   ]
  },
  {
   "cell_type": "code",
   "execution_count": 1,
   "metadata": {},
   "outputs": [],
   "source": [
    "df = pd.read_parquet('follower_details.parquet')"
   ]
  },
  {
   "cell_type": "code",
   "execution_count": 2,
   "metadata": {},
   "outputs": [
    {
     "data": {
      "text/plain": [
       "('Number of followers received:', 697784)"
      ]
     },
     "execution_count": 2,
     "metadata": {},
     "output_type": "execute_result"
    }
   ],
   "source": [
    "import pickle\n",
    "ids = pickle.load(open('follower_ids.pickle', 'rb'))\n",
    "total_n = len(df)\n",
    "'Number of followers received:', len(ids)"
   ]
  },
  {
   "cell_type": "code",
   "execution_count": 3,
   "metadata": {},
   "outputs": [
    {
     "data": {
      "text/plain": [
       "('Number of follower details received:', 697765)"
      ]
     },
     "execution_count": 3,
     "metadata": {},
     "output_type": "execute_result"
    }
   ],
   "source": [
    "'Number of follower details received:', len(df)"
   ]
  },
  {
   "cell_type": "markdown",
   "metadata": {},
   "source": [
    "### Suspicious usernames\n",
    "\n",
    "Human users usually choose a human-readable name with few digits. Usernames with more than 4 digits often point to machine-generated usernames. For Tariq Ramadan, almost 100k followers have usernames that have a lot of numbers in their username.\n",
    "\n",
    "Below a small selection."
   ]
  },
  {
   "cell_type": "code",
   "execution_count": 4,
   "metadata": {},
   "outputs": [],
   "source": [
    "def count_digits(string):\n",
    "    return sum(item.isdigit() for item in string)\n",
    "\n",
    "df['screen_name_digits'] = df['screen_name'].apply(count_digits)"
   ]
  },
  {
   "cell_type": "code",
   "execution_count": 5,
   "metadata": {},
   "outputs": [
    {
     "data": {
      "text/plain": [
       "('Users with an excess number of digits in their username', 94478)"
      ]
     },
     "execution_count": 5,
     "metadata": {},
     "output_type": "execute_result"
    }
   ],
   "source": [
    "'Users with an excess number of digits in their username', len(df[df.screen_name_digits > 4].screen_name.sort_values())"
   ]
  },
  {
   "cell_type": "code",
   "execution_count": 6,
   "metadata": {},
   "outputs": [
    {
     "data": {
      "text/plain": [
       "id\n",
       "4697871612                  zozi27100\n",
       "798743098717310976       zozo08330619\n",
       "895051203469619202          zozo10044\n",
       "815494618594807808       zozo63559387\n",
       "850858256364953600       zozo72653296\n",
       "4843211661               zozo90324803\n",
       "4898941899               zozo91916433\n",
       "872838547849588736        zozo9876541\n",
       "4776316582                 zr58850585\n",
       "4844683125                 zr76417735\n",
       "3025383327                zraidi00002\n",
       "866396398836699140    zri9a2008livef2\n",
       "853325106214559744    zsMpiNw730QY20x\n",
       "276203862                 zubair13500\n",
       "4897593400            zubaira01728914\n",
       "743746439344336896    zubairb18627490\n",
       "173428341                zulfi5241786\n",
       "1924109617            zulfiqa79543714\n",
       "973434869807161344    zulkifl50051282\n",
       "3120654308                  zura24589\n",
       "785863944082710528           zuu48286\n",
       "778856856974401536           zvb04835\n",
       "2168744119               zyad20031968\n",
       "827661032             zynb43578900765\n",
       "3056984182                    zz00007\n",
       "723853958398259201           zz506518\n",
       "726777765752655872           zz854341\n",
       "4689202057                 zz96973560\n",
       "2667551346              zzzzz37165507\n",
       "4032022954            zzzzzzz85072740\n",
       "Name: screen_name, dtype: object"
      ]
     },
     "execution_count": 6,
     "metadata": {},
     "output_type": "execute_result"
    }
   ],
   "source": [
    "df[df.screen_name_digits > 4].screen_name.sort_values().tail(30)"
   ]
  },
  {
   "cell_type": "markdown",
   "metadata": {},
   "source": [
    "## Users without bio\n",
    "\n",
    "Human users usually add their biography. For TR's users, **70%** of followers have no bio."
   ]
  },
  {
   "cell_type": "code",
   "execution_count": 7,
   "metadata": {},
   "outputs": [
    {
     "data": {
      "text/plain": [
       "('Percent of followers without description:', 0.700655664872844)"
      ]
     },
     "execution_count": 7,
     "metadata": {},
     "output_type": "execute_result"
    }
   ],
   "source": [
    "'Percent of followers without description:', len(df[df.description.isnull()]) / total_n"
   ]
  },
  {
   "cell_type": "markdown",
   "metadata": {},
   "source": [
    "## New followers created in March 2018\n",
    "\n",
    "It seems that many of TR's follower accounts were created on a small number of days, often at the beginning of 2018. Generally we would expect the time new follower accounts are created to be random. For TR's followers, the number has some suspicious spikes in 2017 and 2018, as well as a smaller on in 2015.\n",
    "\n",
    "When grouping the creation date by day, we find that about 1000 accounts each were created on March 1, 2, 25 and 26.\n",
    "\n",
    "For accounts created on that day, 70% have one or less tweets until now and 64% never updated their profile picture. As a result it's save to assume that most of those accounts are fake."
   ]
  },
  {
   "cell_type": "code",
   "execution_count": 8,
   "metadata": {},
   "outputs": [
    {
     "data": {
      "text/plain": [
       "<matplotlib.axes._subplots.AxesSubplot at 0x16bbb6f28>"
      ]
     },
     "execution_count": 8,
     "metadata": {},
     "output_type": "execute_result"
    },
    {
     "data": {
      "image/png": "[encoded data removed]",
      "text/plain": [
       "<Figure size 1800x720 with 1 Axes>"
      ]
     },
     "metadata": {
      "needs_background": "light"
     },
     "output_type": "display_data"
    }
   ],
   "source": [
    "df.created_at.dt.floor('d').value_counts().plot(figsize=(25, 10), title='Number of follower accounts created per day')"
   ]
  },
  {
   "cell_type": "code",
   "execution_count": 9,
   "metadata": {},
   "outputs": [
    {
     "data": {
      "text/plain": [
       "2018-03-25 00:00:00+00:00    1083\n",
       "2018-03-02 00:00:00+00:00    1048\n",
       "2018-03-01 00:00:00+00:00    1036\n",
       "2018-03-26 00:00:00+00:00    1015\n",
       "2017-11-13 00:00:00+00:00     913\n",
       "2017-12-07 00:00:00+00:00     889\n",
       "2018-03-03 00:00:00+00:00     861\n",
       "2017-12-06 00:00:00+00:00     811\n",
       "2018-02-28 00:00:00+00:00     806\n",
       "2017-12-08 00:00:00+00:00     795\n",
       "2017-11-14 00:00:00+00:00     790\n",
       "2017-11-12 00:00:00+00:00     783\n",
       "2017-11-15 00:00:00+00:00     780\n",
       "2017-11-17 00:00:00+00:00     772\n",
       "2017-11-18 00:00:00+00:00     770\n",
       "Name: created_at, dtype: int64"
      ]
     },
     "execution_count": 9,
     "metadata": {},
     "output_type": "execute_result"
    }
   ],
   "source": [
    "df.created_at.dt.floor('d').value_counts().head(15)"
   ]
  },
  {
   "cell_type": "markdown",
   "metadata": {},
   "source": [
    "Let's look at one particular day, March 25. On this day, 1083 of Tariq's followers were created. Of those accounts, **758 never sent more than 1 tweet and 64% never changed their profile picture**. This is a strong indication that most accounts created on that day were only set up to increase Tariq Ramadan's follower count."
   ]
  },
  {
   "cell_type": "code",
   "execution_count": 10,
   "metadata": {},
   "outputs": [],
   "source": [
    "created_mar_25 = df[(df.created_at > '2018-03-25') & (df.created_at < '2018-03-26')]"
   ]
  },
  {
   "cell_type": "code",
   "execution_count": 11,
   "metadata": {},
   "outputs": [
    {
     "data": {
      "text/plain": [
       "NaN    580\n",
       "1.0    178\n",
       "2.0     85\n",
       "3.0     57\n",
       "4.0     34\n",
       "Name: statuses_count, dtype: int64"
      ]
     },
     "execution_count": 11,
     "metadata": {},
     "output_type": "execute_result"
    }
   ],
   "source": [
    "created_mar_25.statuses_count.value_counts(dropna=False).head()"
   ]
  },
  {
   "cell_type": "code",
   "execution_count": 13,
   "metadata": {},
   "outputs": [
    {
     "data": {
      "text/plain": [
       "('Percent of followers created on Mar 25, 2018, still using the default profile image',\n",
       " 0.6435826408125577)"
      ]
     },
     "execution_count": 13,
     "metadata": {},
     "output_type": "execute_result"
    }
   ],
   "source": [
    "default_img = 'http://abs.twimg.com/sticky/default_profile_images/default_profile_normal.png'\n",
    "\n",
    "'Percent of followers created on Mar 25, 2018, still using the default profile image', \\\n",
    "    len(created_mar_25[created_mar_25.profile_image_url == default_img]) / len(created_mar_25)"
   ]
  },
  {
   "cell_type": "markdown",
   "metadata": {},
   "source": [
    "## Followers with very few tweets\n",
    "\n",
    "Human users generally post tweets over time. TR's followers are relatively silent. **63.9% have fewer than 10 tweets**."
   ]
  },
  {
   "cell_type": "code",
   "execution_count": 14,
   "metadata": {},
   "outputs": [
    {
     "data": {
      "text/plain": [
       "NaN    239320\n",
       "1.0     77653\n",
       "2.0     40243\n",
       "3.0     25310\n",
       "4.0     17865\n",
       "5.0     13562\n",
       "6.0     10549\n",
       "7.0      8497\n",
       "8.0      7046\n",
       "9.0      6258\n",
       "Name: statuses_count, dtype: int64"
      ]
     },
     "execution_count": 14,
     "metadata": {},
     "output_type": "execute_result"
    }
   ],
   "source": [
    "df.statuses_count.value_counts(dropna=False).head(10)"
   ]
  },
  {
   "cell_type": "code",
   "execution_count": 15,
   "metadata": {},
   "outputs": [
    {
     "data": {
      "text/plain": [
       "('Percent of followers with fewer than 10 tweets', 0.6396179229396717)"
      ]
     },
     "execution_count": 15,
     "metadata": {},
     "output_type": "execute_result"
    }
   ],
   "source": [
    "'Percent of followers with fewer than 10 tweets', _.sum()/total_n"
   ]
  },
  {
   "cell_type": "markdown",
   "metadata": {},
   "source": [
    "## Users with very few followers\n",
    "\n",
    "Human users usually gain some followers over time. For TR's followers, 60% have fewer than 10 followers."
   ]
  },
  {
   "cell_type": "code",
   "execution_count": 16,
   "metadata": {},
   "outputs": [
    {
     "data": {
      "text/plain": [
       "NaN    119756\n",
       "1.0     87031\n",
       "2.0     56883\n",
       "3.0     40570\n",
       "4.0     30460\n",
       "5.0     23997\n",
       "6.0     19828\n",
       "7.0     16475\n",
       "8.0     14035\n",
       "9.0     12047\n",
       "Name: followers_count, dtype: int64"
      ]
     },
     "execution_count": 16,
     "metadata": {},
     "output_type": "execute_result"
    }
   ],
   "source": [
    "df.followers_count.value_counts(dropna=False).head(10)"
   ]
  },
  {
   "cell_type": "code",
   "execution_count": 17,
   "metadata": {},
   "outputs": [
    {
     "data": {
      "text/plain": [
       "('Percent of followers with fewer than 10 followers', 0.6034725158183629)"
      ]
     },
     "execution_count": 17,
     "metadata": {},
     "output_type": "execute_result"
    }
   ],
   "source": [
    "'Percent of followers with fewer than 10 followers', _.sum()/total_n"
   ]
  },
  {
   "cell_type": "markdown",
   "metadata": {},
   "source": [
    "## Users without location\n",
    "\n",
    "Human users usually set their current location in their profile. For TR's followers, 70% have no location set."
   ]
  },
  {
   "cell_type": "code",
   "execution_count": 18,
   "metadata": {},
   "outputs": [
    {
     "data": {
      "text/plain": [
       "('Percent of followers without location set:', 0.7023424792014503)"
      ]
     },
     "execution_count": 18,
     "metadata": {},
     "output_type": "execute_result"
    }
   ],
   "source": [
    "'Percent of followers without location set:', len(df[df.location.isnull()])/total_n"
   ]
  },
  {
   "cell_type": "markdown",
   "metadata": {},
   "source": [
    "## Followers with default profile image\n",
    "\n",
    "Human users usually add a picture to their profile. For TR's users, 38% of followers still use the default image."
   ]
  },
  {
   "cell_type": "code",
   "execution_count": 19,
   "metadata": {},
   "outputs": [
    {
     "data": {
      "text/plain": [
       "('Percent of followers with default profile image:', 0.3811856427307188)"
      ]
     },
     "execution_count": 19,
     "metadata": {},
     "output_type": "execute_result"
    }
   ],
   "source": [
    "'Percent of followers with default profile image:', len(df[(df.profile_image_url == default_img)])/total_n"
   ]
  },
  {
   "cell_type": "markdown",
   "metadata": {},
   "source": [
    "## Followers on lists\n",
    "\n",
    "Twitter allows users to create lists of users, relevant to a specific topic. For TR's followers, 85% never show up on any list."
   ]
  },
  {
   "cell_type": "code",
   "execution_count": 20,
   "metadata": {},
   "outputs": [
    {
     "data": {
      "text/plain": [
       "('Percent of followers not on any list:', 0.8527211883657105)"
      ]
     },
     "execution_count": 20,
     "metadata": {},
     "output_type": "execute_result"
    }
   ],
   "source": [
    "'Percent of followers not on any list:', len(df[df.listed_count.isnull()])/total_n"
   ]
  },
  {
   "cell_type": "markdown",
   "metadata": {},
   "source": [
    "## Followers publishing a status update on the day of creation\n",
    "\n",
    "Human users would continually add status updates. For TR's followers, 15% published their last status update within 10 days of account creation and then never again.\n",
    "\n",
    "45% of his followers were inactive for more than 120 days."
   ]
  },
  {
   "cell_type": "code",
   "execution_count": 21,
   "metadata": {},
   "outputs": [
    {
     "data": {
      "text/plain": [
       "('Users publishing their only status update within 10 days of account creation',\n",
       " 0.15797152336388326)"
      ]
     },
     "execution_count": 21,
     "metadata": {},
     "output_type": "execute_result"
    }
   ],
   "source": [
    "# (pd.Timestamp.now(tz='UTC')- df.tweet_created_at).dt.days.hist(bins=50)\n",
    "update_within_10_days = (df.tweet_created_at - df.created_at).dt.days.value_counts().head(10).sum()\n",
    "'Users publishing their only status update within 10 days of account creation', update_within_10_days/total_n"
   ]
  },
  {
   "cell_type": "code",
   "execution_count": 22,
   "metadata": {},
   "outputs": [
    {
     "data": {
      "text/plain": [
       "0.45297198913674375"
      ]
     },
     "execution_count": 22,
     "metadata": {},
     "output_type": "execute_result"
    }
   ],
   "source": [
    "sum((pd.Timestamp.now(tz='UTC')- df.tweet_created_at).dt.days > 120) / total_n"
   ]
  },
  {
   "cell_type": "markdown",
   "metadata": {},
   "source": [
    "## Estimate of real followers\n",
    "\n",
    "Using the metrics above and four criteria mentioned in the intro, we find that only 14.3% of Tariq Ramadan's followers fulfill all the strong criteria of being human. The rest exhibits a degree of bot behavior and missing attributes.\n",
    "\n",
    "Of course, no single attribute can identify a bot with full convidence, so a sample dataset and machine learning model would be needed for a precise estimate.\n",
    "\n",
    "But even after this initial analysis, we can confidently say that the majority of Tariq Ramadan's Twitter followers are just bots. Congest Twitter's network only to increase his follower count."
   ]
  },
  {
   "cell_type": "code",
   "execution_count": 23,
   "metadata": {},
   "outputs": [
    {
     "data": {
      "text/plain": [
       "0.14314131548587275"
      ]
     },
     "execution_count": 23,
     "metadata": {},
     "output_type": "execute_result"
    }
   ],
   "source": [
    "real_users = df[\n",
    "    (df.profile_image_url != default_img) &\n",
    "    (df.followers_count > 30) &\n",
    "    (df.statuses_count > 50) &\n",
    "    (df.description.notnull()) &\n",
    "    (df.name.notnull())\n",
    "]\n",
    "len(real_users) / total_n"
   ]
  },
  {
   "cell_type": "markdown",
   "metadata": {},
   "source": [
    "## Summary\n",
    "\n",
    "In this analysis, we looked at the Twitter followers of Tariq Ramadan, a famous celebrity from France. We find that many of his followers are inactive or miss basic details that a human account would have. Like adding a location, description or having followers of their own.\n",
    "\n",
    "We also find that many of his followers were created on just a few days in 2018 and 2017. Of those highly suspicious followers, 75% never published more than one tweet and 63% never changed their profile image. Both features strongly indicate bot accounts.\n",
    "\n",
    "When applying the most basic profile-based criteria to his followers, we find that only 14% would pass as human. So without applying a full machine learning model **we can conclude after this exploratory analysis that between 60% and 85% of Tariq Ramadan's Twitter followers are not human**.\n",
    "\n",
    "As always, we encourage you to look at the data yourself. To do so just clone this repo or run it on MyBinder."
   ]
  },
  {
   "cell_type": "code",
   "execution_count": null,
   "metadata": {},
   "outputs": [],
   "source": []
  }
 ],
 "metadata": {
  "kernelspec": {
   "display_name": "Python 3",
   "language": "python",
   "name": "python3"
  }
 },
 "nbformat": 4,
 "nbformat_minor": 2
}
